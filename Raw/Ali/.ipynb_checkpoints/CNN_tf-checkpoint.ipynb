{
 "cells": [
  {
   "cell_type": "markdown",
   "metadata": {},
   "source": [
    "  \n",
    "  \n",
    "  \n",
    "  \n",
    "<center> **Object Detection and Segmentation for Fine-Grained Recognition** </center>\n",
    "<center> **Using Convolutional Neural Networks in TensorFlow** </center>\n",
    "\n",
    "\n"
   ]
  },
  {
   "cell_type": "markdown",
   "metadata": {
    "slideshow": {
     "slide_type": "-"
    }
   },
   "source": [
    "***Abstract-*** *This project addresses the problem of fine-grained recognition: recognizing subordinate categories for classifying images across 10 categories:airplane, automobile, bird, cat, deer, dog, frog, horse, ship, and truck.\n",
    "Based on the insight that images with similar poses can be automatically discovered for fine-grained classes in the same domain. The appearance descriptors are learned using a deep learning using convolutional neural network. Our approach requires only image level class labels, without any use of part annotations or segmentation masks, which may be costly to obtain. TensorFlow is using as the tools for the efficient implementation. Detailed explenations are provided of implemetation including TensorBoard aspects.*  "
   ]
  },
  {
   "cell_type": "markdown",
   "metadata": {},
   "source": [
    "[TOC]: #Table-of-Contents-Support"
   ]
  },
  {
   "cell_type": "markdown",
   "metadata": {},
   "source": [
    "<center><img src=\"/files/Big-Data-Machine-Learning-Doc/Raw/Ali/pic/TensorFlow.png\" width=200px></center>"
   ]
  },
  {
   "cell_type": "markdown",
   "metadata": {},
   "source": [
    "# Outline\n",
    "-  1.Introduction\n",
    "-  2.Background\n",
    " -  2.1.Neural Network\n",
    " -  2.2.convolutional neural networks\n",
    "  -  2.2.1.Local receptive fields\n",
    "  -  2.2.2.Shared weights and biases\n",
    "  -  2.2.3.Pooling Layers\n",
    "-  3.Data Set and the Goal\n",
    " -  3.1.Description:\n",
    "-  4.Architecture and Method\n",
    " -  1.Python Code\n",
    "-  5.Next Steps\n"
   ]
  },
  {
   "cell_type": "markdown",
   "metadata": {},
   "source": [
    "# 1. Introduction\n",
    "**Neural Network** is well-suited to problem in which the training data corresponds to noisy, complex sensor data, such as input from cameras and microphones. In addition, it is applicable to problem for which more symbolic representations are often used. In general, it is appropriate for problems with the following charectristics:\n",
    "- *Instances are represented by many attribute-value pairs.*  \n",
    "- *The target function output may be descrete-valued, real-valued, or a vectored, or a vector of several real- or discrete- valued attributes.*  \n",
    "- *The training examples may contain errors.*  \n",
    "- *Fast evaluation of the learned target function may be required.*  \n",
    "- *The ability of humans to understand the learned target function is not important.*  \n",
    "\n",
    "**Deep learning** (deep structured learning, hierarchical learning or deep machine learning) based on set of algorithms attempts attempt to model high-level abstractions in data by using multiple processing layers, with complex structures or otherwise, composed of multiple non-linear transformations.  \n",
    "  \n",
    "Choossing Neural Network as an algorithm in deep learning often much harder to train; That's unfortunate, since we have good reason to believe that if we could train deep nets they'd be much more powerful. Furthermore, upon reflection, it's strange to use networks with fully-connected layers to classify images. The reason is that such a network architecture does not take into account the spatial structure of the images. For instance, it treats input pixels which are far apart and close together on exactly the same footing.  \n",
    "  \n",
    "**Convolution Neaural Network (CNN)** presents a special architecture which is particularly well-adapted to classify images. It was inspired by biological processes and is variations of multilayer perceptrons designed to use minimal amounts of preprocessing. Using this architecture makes convolutional networks fast to train. This, in turns, helps us train deep, many-layer networks for classifying images.\n",
    "  \n",
    "**TensorFlow** is used to accompolish the mathematical computation with a directed graph of nodes & edges:\n",
    "- Nodes: typically implement mathematical operations, but can also represent endpoints to feed in data, push out results, or read/write persistent variables. \n",
    "- Edges: describe the input/output relationships between nodes. These data edges carry dynamically-sized multidimensional data arrays, or tensors.\n",
    "This totorial can be consider as a frame work for implimenting a larger and more sophisticated models. The orgin of the Code is provided by http://www.tensorflow.org. The wirter manipulate the code based on the desire to implement the more complex convolutional networks, illustrating more details, and visualizing the ongoing process in the network architecture, training and evaluation\n",
    "\n",
    "Two datasets are going to investigate in this network:  \n",
    "- The CIFAR-10 dataset consists of 60000 32x32 colour images in 10 classes, with 6000 images per class. There are 50000 training images and 10000 test images. http://www.cs.toronto.edu/%7Ekriz/cifar.html.\n",
    "    \n",
    "- Yahoo! Shopping Shoes Image Content, version 1.0. This dataset contains 107 folders, each corresponding to a type and brand of shoe. for instances: classes/aerosoles_sandals, classes/aetrex_sandals, ... . Each folder contains some number of images of shoes of the respective type and brand. All together 5357 images. This dataset should be polished to extract training images and test images. http://webscope.sandbox.yahoo.com.\n",
    "    \n",
    "The report is currently in beta. I welcome notification of typos, bugs, minor errors, and major misconceptions. Please drop me a line at Ali.Miraftab@utsa.edu if you spot such an error."
   ]
  },
  {
   "cell_type": "markdown",
   "metadata": {},
   "source": [
    "# 2. Background\n",
    "## 2.1. Neural Network\n",
    "We already know Neural Network is using networks in which adjacent network layers are fully connected to one another. That is, every neuron in the network is connected to every neuron in adjacent layers:"
   ]
  },
  {
   "cell_type": "markdown",
   "metadata": {},
   "source": [
    "<center><img src=\"/files/Big-Data-Machine-Learning-Doc/Raw/Ali/pic/ANN.png\" ></center>"
   ]
  },
  {
   "cell_type": "markdown",
   "metadata": {},
   "source": [
    "In particular, for each pixel in the input image, we encoded the pixel's intensity as the value for a corresponding neuron in the input layer. As an instance, for the 640×480 pixel images we've been using, this means our network has 307200 input neurons. We then trained the network's weights and biases so that the network's output would - we hope! - correctly identify the input image."
   ]
  },
  {
   "cell_type": "markdown",
   "metadata": {},
   "source": [
    "## 2.2. convolutional neural networks\n",
    "To implement fast and more intelligent multilayer nural network, the architecture on CNN use three basic ideas:\n",
    "- local receptive fields, \n",
    "- shared weights, \n",
    "- and pooling."
   ]
  },
  {
   "cell_type": "markdown",
   "metadata": {},
   "source": [
    "### - Local receptive fields:\n",
    "The window on the input pixels in the input image is called the local receptive field for the hidden neuron.  \n",
    "It is shown the local receptive field being moved by one pixel at a time. In fact, sometimes a different length is used. **This movement step is called Stride.** Usually, it is set as one. However, different stride lengths can be investigate by using validation data for the best performance.  \n",
    "And so on, building up the first hidden layer."
   ]
  },
  {
   "cell_type": "markdown",
   "metadata": {},
   "source": [
    "<center><img src=\"/files/Big-Data-Machine-Learning-Doc/Raw/Ali/pic/Local_Receptive.png\" ></center>"
   ]
  },
  {
   "cell_type": "markdown",
   "metadata": {},
   "source": [
    "### 2.2.2. Shared weights and biases:\n",
    "Each hidden neuron has a bias and weights connected to its local receptive field. CNN uses the same weights and bias for each of the **Local receptive fields** and correspondly hidden neurons. In other words, for the j,k the hidden neuron, the output is:\n",
    "\n",
    "\n",
    "$$\\begin{eqnarray} \n",
    "  \\sigma\\left(b + \\sum_{l=0}^x \\sum_{m=0}^x  w_{l,m} a_{j+l, k+m} \\right).\n",
    "\\tag{1}\\end{eqnarray}$$"
   ]
  },
  {
   "cell_type": "markdown",
   "metadata": {},
   "source": [
    "Here, σ is the neural activation function - perhaps the sigmoid function we used in earlier chapters. b is the shared value for the bias. $w_{l, m}$ is a $5×5$ array of shared weights. And, finally, we use $a_{x, y}$ to denote the input activation at position x,y.\n",
    "\n",
    "This implies that all the neurons in the first hidden layer detect exactly the same feature. As a matter of fact, CNN are well adapted to the translation invariance of images: move a picture of a cat (say) a little ways, and it's still an image of a cat.  \n",
    "For this reason, we sometimes call the map from the input layer to the hidden layer a feature map. We call the weights defining the feature map the shared weights. And we call the bias defining the feature map in this way the shared bias. The shared weights and bias are often said to define a kernel or filter. In the literature, people sometimes use these terms in slightly different ways.  \n",
    "A big advantage of sharing weights and biases is that it greatly reduces the number of parameters involved in a convolutional network."
   ]
  },
  {
   "cell_type": "markdown",
   "metadata": {},
   "source": [
    "The network structure I've described so far can detect just a single kind of localized feature. To do image recognition we'll need more than one feature map. And so a complete convolutional layer consists of several different feature maps:"
   ]
  },
  {
   "cell_type": "markdown",
   "metadata": {},
   "source": [
    "<center><img src=\"/files/Big-Data-Machine-Learning-Doc/Raw/Ali/pic/Kernel.png\"> </center>"
   ]
  },
  {
   "cell_type": "markdown",
   "metadata": {},
   "source": [
    "### 2.2.3. Pooling Layers:\n",
    "In addition to the convolutional layers just described, convolutional neural networks also contain pooling layers. Pooling layers are usually used immediately after convolutional layers. What the pooling layers do is simplify the information in the output from the convolutional layer."
   ]
  },
  {
   "cell_type": "markdown",
   "metadata": {},
   "source": [
    "<center><img src=\"/files/Big-Data-Machine-Learning-Doc/Raw/Ali/pic/Pooling.png\"> </center>"
   ]
  },
  {
   "cell_type": "markdown",
   "metadata": {},
   "source": [
    "In detail, a pooling layer takes each feature map output from the convolutional layer and prepares a condensed feature map. For instance, each unit in the pooling layer may summarize a region of (say) 2×2 neurons in the previous layer.\n",
    "- max-pooling\n",
    "- L2 pooling"
   ]
  },
  {
   "cell_type": "markdown",
   "metadata": {},
   "source": [
    "# 3. TensorFlow for the CIFAR-10 dataset\n",
    "The proposed mode for CIFAR-10 by Alex Krizhevsky consists alternating convolutions and nonlinearities which is followed by fully connected layers and at the end softmax classifier. The implemented model by TensorFlow webpage consists of two CNN and two fully connected network layers with with a peak performance of about 86% accuracy within a few hours of training time on a GPU. Here it is tried to implement the three CNN layers and improve the performance. In parallel, the sophisticated framework for implementing CNN will be study in details. the majority of the materials can be found in the TensorFlow webpage. However, this report tries to put the explanations in a same place and modify the framework by it's own purpose.  \n",
    "** Note:** The lack of GPU in the current machines causes spending much more time.\n"
   ]
  },
  {
   "cell_type": "markdown",
   "metadata": {},
   "source": [
    "## 3.1. Code Navigation:\n",
    "\n",
    "- ** Read the input : cifar10_input.py  **\n",
    "    - inputs( ) : read the data  \n",
    "    - distorted_inputs( ) : preprocess the data  \n",
    "- ** Make the Model : cifar10.py  **\n",
    "    - inference( ) : classification, defining the layers\n",
    "- ** Trains a model : cifar10_train.py  **\n",
    "    - loss( )  \n",
    "    - train( )\n",
    "- ** Evaluate&check : cifar10_eval.py  **"
   ]
  },
  {
   "cell_type": "markdown",
   "metadata": {},
   "source": [
    "### 3.1.1 Preprocess of the data:\n",
    "TensorFlow provides a variety of distorions which can be used for training step. For instance: Randomly flip, image brightness, image contrast, ... .  "
   ]
  },
  {
   "cell_type": "code",
   "execution_count": null,
   "metadata": {
    "collapsed": false
   },
   "outputs": [],
   "source": [
    "distorted_image = tf.image.random_brightness(distorted_image, max_delta=63)\n",
    "distorted_image = tf.image.random_contrast(distorted_image, lower=0.2, upper=1.8)"
   ]
  },
  {
   "cell_type": "markdown",
   "metadata": {},
   "source": [
    "<center><img src=\"/files/Big-Data-Machine-Learning-Doc/Raw/Ali/pic/individualImage.png\" width=200px></center> "
   ]
  },
  {
   "cell_type": "markdown",
   "metadata": {},
   "source": [
    "<center><img src=\"/files/Big-Data-Machine-Learning-Doc/Raw/Ali/pic/individualImage-3.png\" width=200px></center>"
   ]
  },
  {
   "cell_type": "markdown",
   "metadata": {},
   "source": [
    "### 3.1.1 Studying Model:\n",
    "As the aforementioned, inference() contains the model constructed. the graph that is produced by TensorBoard describes the inference operation. The 3rd CNN graph which is going to add to the model is illustrated separately."
   ]
  },
  {
   "cell_type": "markdown",
   "metadata": {},
   "source": [
    "<center><img src=\"/files/Big-Data-Machine-Learning-Doc/Raw/Ali/pic/inference_graph.png\" width=300px></center>"
   ]
  },
  {
   "cell_type": "markdown",
   "metadata": {},
   "source": [
    "# 4. TensorBoar\n",
    "TensorBoard provides the comprehensive understanding of the ongoing data flow, including image, rates, weights, bias, .... These information is displayed periodically. To install the TensorBoard throughout the network following steps are necessary."
   ]
  },
  {
   "cell_type": "markdown",
   "metadata": {},
   "source": [
    "<center><img src=\"/files/Big-Data-Machine-Learning-Doc/Raw/Ali/pic/TensorBoard.png   \" ></center>"
   ]
  },
  {
   "cell_type": "markdown",
   "metadata": {},
   "source": [
    "**Note** Remotely running TensorBoard requires making the tunnel, one of the simplest way is  \n"
   ]
  },
  {
   "cell_type": "markdown",
   "metadata": {},
   "source": [
    "$ ssh -N -f -L localhost:destination_Port:localhost:Source_port root@10.241.8.101"
   ]
  },
  {
   "cell_type": "markdown",
   "metadata": {},
   "source": [
    "The detailes graph of the model is provided by TensorBoard as Follow: (default directory for storing the graph information /tmp/ciraf10_train)"
   ]
  },
  {
   "cell_type": "markdown",
   "metadata": {},
   "source": [
    "tensorboard --logdir=/tmp/ciraf10_train"
   ]
  },
  {
   "cell_type": "markdown",
   "metadata": {},
   "source": [
    "<center><img src=\"/files/Big-Data-Machine-Learning-Doc/Raw/Ali/pic/ciraf10_org.png   \" ></center>"
   ]
  },
  {
   "cell_type": "markdown",
   "metadata": {},
   "source": [
    "# 4. Implimentation"
   ]
  },
  {
   "cell_type": "markdown",
   "metadata": {},
   "source": [
    "## 4.1. Training\n",
    "188440 steps has been implimented for 2 days and 15:48:43.  \n",
    "Multinomial Logistic Regression has been used for this classification problem. \n",
    "Gradient Descent Optimizer is used for training the variables."
   ]
  },
  {
   "cell_type": "markdown",
   "metadata": {},
   "source": [
    "<center><img src=\"/files/Big-Data-Machine-Learning-Doc/Raw/Ali/pic/Selection_001.png\" ></center>"
   ]
  },
  {
   "cell_type": "markdown",
   "metadata": {
    "collapsed": false
   },
   "source": [
    "For monitoring the ongoing situation TesorBoard have been used. For implementing the TensorBoard following chart provides the guidline:"
   ]
  },
  {
   "cell_type": "markdown",
   "metadata": {
    "collapsed": true
   },
   "source": [
    "Visualizing TensorBoard with scalar_summary:"
   ]
  },
  {
   "cell_type": "markdown",
   "metadata": {},
   "source": [
    "<center><img src=\"/files/Big-Data-Machine-Learning-Doc/Raw/Ali/pic/CNN_out.png\" ></center>"
   ]
  },
  {
   "cell_type": "markdown",
   "metadata": {},
   "source": [
    "Variation of the Weigths and Bias of the model:"
   ]
  },
  {
   "cell_type": "markdown",
   "metadata": {},
   "source": [
    "<center><img src=\"/files/Big-Data-Machine-Learning-Doc/Raw/Ali/pic/CNN_w.png\" ></center>"
   ]
  },
  {
   "cell_type": "markdown",
   "metadata": {},
   "source": [
    "<center><img src=\"/files/Big-Data-Machine-Learning-Doc/Raw/Ali/pic/CNN1_b.png\" ></center>"
   ]
  },
  {
   "cell_type": "code",
   "execution_count": null,
   "metadata": {
    "collapsed": true
   },
   "outputs": [],
   "source": [
    "The variation of the total loss:"
   ]
  },
  {
   "cell_type": "markdown",
   "metadata": {},
   "source": [
    "<center><img src=\"/files/Big-Data-Machine-Learning-Doc/Raw/Ali/pic/Total_Loss.png\" ></center>"
   ]
  },
  {
   "cell_type": "markdown",
   "metadata": {},
   "source": [
    "The Cross etropy of the total loss:"
   ]
  },
  {
   "cell_type": "markdown",
   "metadata": {},
   "source": [
    "<center><img src=\"/files/Big-Data-Machine-Learning-Doc/Raw/Ali/pic/Cross_In_row.png\" ></center>"
   ]
  },
  {
   "cell_type": "markdown",
   "metadata": {},
   "source": [
    "Bias Gradiant if the CNN1:"
   ]
  },
  {
   "cell_type": "markdown",
   "metadata": {},
   "source": [
    "<center><img src=\"/files/Big-Data-Machine-Learning-Doc/Raw/Ali/pic/con2_b_g.png\" ></center>"
   ]
  },
  {
   "cell_type": "markdown",
   "metadata": {},
   "source": [
    "## 4.2. Training\n",
    "Here the evaluation of the model has been investigated, The accuaracy is %87.2"
   ]
  },
  {
   "cell_type": "code",
   "execution_count": null,
   "metadata": {
    "collapsed": true
   },
   "outputs": [],
   "source": []
  }
 ],
 "metadata": {
  "kernelspec": {
   "display_name": "Python 2",
   "language": "python",
   "name": "python2"
  },
  "language_info": {
   "codemirror_mode": {
    "name": "ipython",
    "version": 2
   },
   "file_extension": ".py",
   "mimetype": "text/x-python",
   "name": "python",
   "nbconvert_exporter": "python",
   "pygments_lexer": "ipython2",
   "version": "2.7.6"
  }
 },
 "nbformat": 4,
 "nbformat_minor": 0
}
