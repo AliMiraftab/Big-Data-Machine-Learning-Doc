{
 "cells": [
  {
   "cell_type": "markdown",
   "metadata": {},
   "source": [
    "\n",
    "# Computing with TENSOR FLOW\n",
    "***\n"
   ]
  },
  {
   "cell_type": "markdown",
   "metadata": {},
   "source": [
    "Tensor flow can be visualised as computations in a graph with nodes that has definite operations. In simple terms, tensor flow carries out computations in the form of graphs. Nodes of the graph are Ops (Operations): Handles zero or multiple tensors to output zero or multiple tensors. Tensors are multidimensional array / list.  Data is represented using tensor data structure which includes: Ranks, Shapes, Types. It is the tensors that are passed between the nodes in the graph. "
   ]
  },
  {
   "cell_type": "markdown",
   "metadata": {},
   "source": [
    "Every Op or operation object execution and tensor evaluations, happens within a session. A session owns all the results generated and its related resources used within that session. Launch a session using the following command: \n",
    "\n",
    "<center>sess = tf.Session()</center>\n",
    "\n",
    "If the above commands are used then it is important that these resources are released at the end of a session using close() command. But for simplicity, it is adviced to use context manager session; so that resource release happens automatically.\n",
    "For the execution of an Op (node) in tensor flow to happen, execute using session.run() command as: \n",
    "<center>print(sess.run(input))</center>\n",
    "\n",
    "Example 1: Lets consider a simple tensor computation:  "
   ]
  },
  {
   "cell_type": "code",
   "execution_count": 18,
   "metadata": {
    "collapsed": false
   },
   "outputs": [
    {
     "name": "stdout",
     "output_type": "stream",
     "text": [
      "Product is:  [[14 28]\n",
      " [49 49]]\n",
      "The shape of the product tensor:  (2, 2)\n"
     ]
    }
   ],
   "source": [
    "#```python\n",
    "# Objective of the program is to do a simple multiplication on an input tensor of \n",
    "# constant values\n",
    "# To use tensor flow; import it\n",
    "import tensorflow as tf\n",
    "# tf.constant creates constant values. The below command creates a tensor;shape (2,2) \n",
    "# with constant values. Be sure that each element are separated by comma delimiter and also\n",
    "# that the two operands with which operation is performed are of the same data type! \n",
    "val = tf.constant([[2,4],[7,7]],name = \"constantValue\")\n",
    "# tf.constant creates a constant value with no shape\n",
    "singleValue = tf.constant(7,name = \"SingleValueConstant\")\n",
    "# tf.Variable creates a storage variable, where values can be updated.\n",
    "# In a graph, each variable corresponds corresponds to a node\n",
    "storageVal = tf.Variable(val *singleValue, name = \"StorageVaraible\" )\n",
    "\n",
    "# The below command takes care of the Initialization part. \n",
    "# In the absence of this command; you would receive a \n",
    "# 'Failed precondition error; which is to do with uninitialised varaibles' \n",
    "initialization = tf.initialize_all_variables()\n",
    "# USING CONTEXT MANAGER SESSION FOR EXECUTION\n",
    "with tf.Session() as session:\n",
    "        session.run(initialization)\n",
    "        print \"Product is: \",session.run(storageVal)\n",
    "        print \"The shape of the product tensor: \",(storageVal.get_shape())\n",
    "\n",
    "# ```"
   ]
  },
  {
   "cell_type": "markdown",
   "metadata": {},
   "source": [
    "Tensor dimensionality is denoted using shape, rank and dimension number. Tensor with rank 0 is a scalar. A rank 1 tensor is a vector. A rank 2 tensor is a matrix, ie you can access element using 2 variables like tensor[i,j]; here the dimension is 2D. In the case of rank 3, access it using tensor[i,j,k];here dimension is 3D. \n",
    "\n",
    "The tensor elements can be subjected to slice, tile operations. The below example deals with slice command. \n",
    "\n",
    "Example 2:"
   ]
  },
  {
   "cell_type": "code",
   "execution_count": 7,
   "metadata": {
    "collapsed": false
   },
   "outputs": [
    {
     "name": "stdout",
     "output_type": "stream",
     "text": [
      "[[ 2.33001208  1.26278913  1.60855293  1.030514    1.50588417  2.1367507\n",
      "   1.53276908  1.73472095]\n",
      " [ 1.41384625  2.17045212  2.13878942  1.53167903  1.38385236  1.63506818\n",
      "   2.23259115  2.2457695 ]\n",
      " [ 1.73200369  1.39098573  2.27128053  1.38842237  1.26793027  2.19655061\n",
      "   1.75040245  1.6312499 ]\n",
      " [ 1.15746748  2.26307154  2.08339262  1.55681193  1.14949715  1.0745368\n",
      "   2.21356702  2.09144092]\n",
      " [ 1.90023351  2.57675171  2.37172389  1.85384226  1.84266472  1.42643166\n",
      "   2.35991454  2.74649358]\n",
      " [ 1.95441222  2.338588    2.85376191  2.00092983  1.73432648  2.43204093\n",
      "   2.73512101  2.32248187]\n",
      " [ 2.59776068  2.33536839  2.89232564  1.88745451  1.92409945  2.73264027\n",
      "   2.52750754  2.34679651]\n",
      " [ 1.51273251  1.35508454  1.79165709  1.14277983  1.11254752  1.55095184\n",
      "   2.01109171  1.77133965]]\n",
      "[[ 2.42285967  1.51188409  1.79102206  1.33566034  1.70622659  2.24832582\n",
      "   1.72828388  1.89722192]\n",
      " [ 1.63153982  2.27852249  2.25014949  1.72738755  1.60748482  1.81316328\n",
      "   2.33447075  2.34638023]\n",
      " [ 1.8949126   1.61319268  2.36947727  1.61114073  1.51589406  2.30197859\n",
      "   1.91056705  1.80996895]\n",
      " [ 1.43075728  2.36203909  2.20073748  1.74809909  1.42469871  1.36829233\n",
      "   2.31730533  2.20789766]\n",
      " [ 2.03958988  2.65002131  2.46094251  1.99935651  1.98969996  1.64167559\n",
      "   2.45014668  2.80867219]\n",
      " [ 2.08688498  2.43067813  2.9097898   2.12774706  1.89688659  2.51625085\n",
      "   2.79798889  2.41599941]\n",
      " [ 2.66956043  2.42774224  2.94629002  2.02848244  2.06038332  2.79565954\n",
      "   2.60433698  2.43816733]\n",
      " [ 1.71183503  1.58454847  1.94582236  1.41960156  1.39676392  1.74326169\n",
      "   2.13670397  1.92843306]]\n",
      "SLICING ON TENSORS: \n",
      "Applying slicing on softplus output [[ 2.27852249]]\n",
      "Access1:  [[[1]]]\n",
      "Access2:  [[[ 1 11]]]\n",
      "Access3:  [[[  1  11 111]]]\n",
      "Access7:  [[[1]]\n",
      "\n",
      " [[3]]]\n",
      "Access8:  [[[1]\n",
      "  [2]]\n",
      "\n",
      " [[3]\n",
      "  [4]]\n",
      "\n",
      " [[5]\n",
      "  [6]]]\n"
     ]
    }
   ],
   "source": [
    "import tensorflow as tf\n",
    "import numpy as np\n",
    "val1 = tf.placeholder(tf.float32,shape = (8,8))\n",
    "val2 = tf.placeholder(tf.float32, shape = (8,8))\n",
    "randomNos2 = np.random.rand(8,8)\n",
    "product = tf.matmul(val1,val2)\n",
    "inpSlice = tf.constant([[[1,11,111],[2,22,222]],\n",
    "                  [[3,33,333],[4,44,444]],\n",
    "                  [[5,55,555],[6,66,666]]])\n",
    "\n",
    "init = tf.initialize_all_variables()\n",
    "# Softplus activation function computes log(exp(featurePoints)+1)\n",
    "softPlus = tf.nn.softplus(product)\n",
    "with tf.Session() as sess:\n",
    "        sess.run(init)\n",
    "        print (sess.run(product,feed_dict={val1:randomNos2, val2:randomNos2}))\n",
    "        result = sess.run(softPlus,feed_dict={val1:randomNos2, val2:randomNos2})\n",
    "        # The slicing function takes the arguments input, size and begin\n",
    "        print (result)\n",
    "        print \"SLICING ON TENSORS: \"\n",
    "        print \"Applying slicing on softplus output\",(sess.run(tf.slice(result, [1, 1], [1, 1])))\n",
    "\n",
    "        print \"Access1: \",(sess.run(tf.slice(inpSlice,[0,0,0],[1,1,1])))\n",
    "        print \"Access2: \",(sess.run(tf.slice(inpSlice,[0,0,0],[1,1,2])))\n",
    "        print \"Access3: \",(sess.run(tf.slice(inpSlice,[0,0,0],[1,1,3])))\n",
    "# Interpretation of slice arguments: \n",
    "# The begin parameter begin(i,j,k): will enable access to 'i' ranks; spanning 'j' dimensions; \n",
    "# the number of values returned is 'k'\n",
    "# This will access elements at the 2ranks, from both dimensions- starting from the range 0 as size is specified as 0\n",
    "\n",
    "        print \"Access7: \",(sess.run(tf.slice(inpSlice,[0,0,0],[2,1,1])))\n",
    "        print \"Access8: \",(sess.run(tf.slice(inpSlice,[0,0,0],[3,2,1])))\n"
   ]
  },
  {
   "cell_type": "markdown",
   "metadata": {},
   "source": [
    " Example 3: \n",
    " Tensor flow offers a variety of basic arithemtic functions to do computations. \n",
    " A few of them are implemented below for ease."
   ]
  },
  {
   "cell_type": "markdown",
   "metadata": {},
   "source": [
    "``` python\n",
    "# The following program shows the basic arithemtic operations using Tenspr Flow and the #  arguments required to be passed.\n",
    "# Takes arguments: x input,y input, name=None (optional; without space)\n",
    "# The x input and y input should be tensors;Must be one of the types: float32, float 64, uint8, int16, int32, int 64, complex64\n",
    "# y should be of the same type as x input; variables are case sensitive\n",
    "import tensorflow as tf\n",
    "#  Input constant float values. \n",
    "a = tf.constant([[4.0, 8.0,10.0],[20.0,40.0,80.0]])\n",
    "b = tf.constant([[8.0, 16.0,15.0],[25.0,40.0,50.0]])\n",
    "# The common arithemtic operators can be implemented as below:\n",
    "sumVal = tf.add (a,b, name = \"AdditiveOp\")\n",
    "diffVal = tf.sub(a,b,name = \"SubtractiveOp\")\n",
    "mulVal = tf.mul(a,b,name = \"MultiplicationOp\")\n",
    "QuoVal = tf.div(a,b, name = \"DivisionOp\")\n",
    "#TrueDiv function produces floating point quotients; Here integer operands are converted to floating point values\n",
    "#If integer values of type int8 or int16: Casted to float32 / If integer values of type int32 or int64: Casted to float64\n",
    "#If a and b are of different types, it gives error\n",
    "QuoValtrue = tf.truediv(a,b)\n",
    "# The cross function provides the cross product of 2 values whose innermost dimension 3\n",
    "crossVal = tf.cross(a,b)\n",
    "#Provides remainder with respect to each element in the tensor\n",
    "modVal = tf.mod(a,b)\n",
    "# Provides absolute value of input tensor\n",
    "negTensor = tf.constant([-2,-4,-6])\n",
    "absVal = tf.abs(negTensor)\n",
    "# Produces -1 if negative, 0 if value is 0 & 1 if positive value\n",
    "# The input tensor should be either float32, float64, int32, int64\n",
    "signVal = tf.sign(negTensor, name = \"direction\")\n",
    "# Provides the reciprocal of a value\n",
    "# The input tensor should be of type float32,float64,int32,complex64,int64\n",
    "invVal = tf.inv(a, name = \"Inverse\")\n",
    "# The below function finds the reciprocal of the square root a number; tensor accepts :float32,float64,int32,complex64,int64\n",
    "# Mathematical functions: tf.sqrt(a), tf.round(a): Rounds values to ceiling value; the tensor should be either float or double,\n",
    "# tf.square(a): finds the square\n",
    "revSqVal = tf.rsqrt(a, name = \"ReverseSqrt\")\n",
    "# The below function computes to the power of the tensor value;If output exceeds the limit of datatype allowed, it gives 0 as output for that tensor element \n",
    "powVal = tf.pow(absVal,absVal)\n",
    "#The exponential value is obtained for tensors of types: float32,float64,complex64,int64\n",
    "#Similarly, natural log is found using tf.log(<input tensor>) function\n",
    "expVal = tf.exp(a, name = \"Exponential\")\n",
    "#Other functions include:\n",
    "# tf.ceil(a,name = \"Ceil\";produces smaller value > x & tf.floor(a, name = \"floor\");produces bigger integer < x; \n",
    "# both accepts values of type :float32 or float64\n",
    "\n",
    "# tf.maximum function & tf.minimum produces the max between two values\n",
    "tf.maximum(a,b,name = \"Max\")\n",
    "tf.minimum(a,b,name = \"Min\")\n",
    "\n",
    "init = tf.initialize_all_variables()\n",
    "\n",
    "# With the below commands, the Op gets executed\n",
    "with tf.Session() as sess:\n",
    "        sess.run(init)\n",
    "        print \"Additive: \"\n",
    "        print (sess.run(sumVal))\n",
    "#       sub,div,mul resluts can be obtained in the same manner.\n",
    "        print \"Quotient from Truediv function: \"\n",
    "        print (sess.run(QuoValtrue))\n",
    "        print \"Cross Product: \",(sess.run(crossVal))\n",
    "        print \"Element by element Mod value: \",(sess.run(modVal))\n",
    "        print \"Absolute: \",(sess.run(absVal))\n",
    "        print \"Element by element Sign value: \",(sess.run(signVal))\n",
    "        print \"Element to the Power a: \",(sess.run(powVal))\n",
    "        print \"Function to generate exponential values: \",(sess.run(expVal))\n",
    "\n",
    "\n",
    "```"
   ]
  },
  {
   "cell_type": "markdown",
   "metadata": {},
   "source": [
    "Example 4: The following tensor flow program generates a tensor using random numbers, and reducing functions that calculates: mean, sum, products of tensor elements are carried out:"
   ]
  },
  {
   "cell_type": "code",
   "execution_count": 19,
   "metadata": {
    "collapsed": false
   },
   "outputs": [
    {
     "name": "stdout",
     "output_type": "stream",
     "text": [
      "At Loop:  0\n",
      "Sum is: [4]\n",
      "Sum is: [4 4]\n",
      "Sum is: [4 4 6]\n",
      "Sum is: [4 4 6 5]\n",
      "Sum is: [4 4 6 5 1]\n",
      "Sum is: [4 4 6 5 1 7]\n",
      "Sum is: [4 4 6 5 1 7 5]\n",
      "Sum is: [4 4 6 5 1 7 5 5]\n",
      "Sum is: [4 4 6 5 1 7 5 5 1]\n",
      "Last sumval:  [4 4 6 5 1 7 5 5 1]\n",
      "Reduced Mean is :  4.22222\n",
      "At Loop:  1\n",
      "Sum is: [6]\n",
      "Sum is: [6 5]\n",
      "Sum is: [6 5 5]\n",
      "Sum is: [6 5 5 5]\n",
      "Sum is: [6 5 5 5 3]\n",
      "Sum is: [6 5 5 5 3 9]\n",
      "Sum is: [6 5 5 5 3 9 6]\n",
      "Sum is: [6 5 5 5 3 9 6 7]\n",
      "Sum is: [6 5 5 5 3 9 6 7 2]\n",
      "Last sumval:  [6 5 5 5 3 9 6 7 2]\n",
      "Reduced Mean is :  5.33333\n",
      "At Loop:  2\n",
      "Sum is: [1]\n",
      "Sum is: [1 3]\n",
      "Sum is: [1 3 0]\n",
      "Sum is: [1 3 0 7]\n",
      "Sum is: [1 3 0 7 0]\n",
      "Sum is: [1 3 0 7 0 8]\n",
      "Sum is: [1 3 0 7 0 8 6]\n",
      "Sum is: [1 3 0 7 0 8 6 9]\n",
      "Sum is: [1 3 0 7 0 8 6 9 2]\n",
      "Last sumval:  [1 3 0 7 0 8 6 9 2]\n",
      "Reduced Mean is :  4.0\n",
      "At Loop:  3\n",
      "Sum is: [7]\n",
      "Sum is: [7 2]\n",
      "Sum is: [7 2 6]\n",
      "Sum is: [7 2 6 3]\n",
      "Sum is: [7 2 6 3 5]\n",
      "Sum is: [7 2 6 3 5 4]\n",
      "Sum is: [7 2 6 3 5 4 4]\n",
      "Sum is: [7 2 6 3 5 4 4 5]\n",
      "Sum is: [7 2 6 3 5 4 4 5 5]\n",
      "Last sumval:  [7 2 6 3 5 4 4 5 5]\n",
      "Reduced Mean is :  4.55556\n",
      "At Loop:  4\n",
      "Sum is: [1]\n",
      "Sum is: [1 7]\n",
      "Sum is: [1 7 4]\n",
      "Sum is: [1 7 4 3]\n",
      "Sum is: [1 7 4 3 8]\n",
      "Sum is: [1 7 4 3 8 0]\n",
      "Sum is: [1 7 4 3 8 0 6]\n",
      "Sum is: [1 7 4 3 8 0 6 0]\n",
      "Sum is: [1 7 4 3 8 0 6 0 5]\n",
      "Last sumval:  [1 7 4 3 8 0 6 0 5]\n",
      "Reduced Mean is :  3.77778\n"
     ]
    }
   ],
   "source": [
    "import tensorflow as tf\n",
    "import numpy as np\n",
    "\n",
    "x = tf.Variable(0, name='x')\n",
    "y = tf.constant(5)\n",
    "model = tf.initialize_all_variables()\n",
    "\n",
    "with tf.Session() as session:\n",
    "    for i in range(5):\n",
    "        session.run(model)\n",
    "        print \"At Loop: \",i\n",
    "        data = np.random.randint(10, size=10)\n",
    "        for j in range(len(data)-1):\n",
    "                sumVal = tf.add(x,data[0:j+1])\n",
    "                print \"Sum is:\",\n",
    "                result = session.run(sumVal)\n",
    "                print result\n",
    "\n",
    "        print \"Last sumval: \",result\n",
    "        print \"Reduced Mean is : \",session.run(tf.reduce_mean(tf.to_float((sumVal))))     \n",
    "        merged = tf.merge_all_summaries()\n",
    "        writer = tf.train.SummaryWriter(\"/tmp/mnist_logs\", session.graph_def)\n",
    "        model = tf.initialize_all_variables()\n",
    "        session.run(model)\n"
   ]
  },
  {
   "cell_type": "markdown",
   "metadata": {},
   "source": [
    "Example 5:\n",
    "Consider a simple model which calculates a new state using the error obtained from the previous state.The functions add, sub forms a node in the graph with their own definite operations. They produce zero or more tensors as inputs for the next set of nodes:\n"
   ]
  },
  {
   "cell_type": "code",
   "execution_count": 2,
   "metadata": {
    "collapsed": false
   },
   "outputs": [
    {
     "name": "stdout",
     "output_type": "stream",
     "text": [
      "1\n",
      "[5, 20]\n",
      "[25, 100]\n",
      "[125, 500]\n",
      "[625, 2500]\n",
      "[3125, 12500]\n"
     ]
    }
   ],
   "source": [
    "#```python\n",
    "import tensorflow as tf\n",
    "# Variables: Memory Buffers, with tensors that update and hold values\n",
    "# Needs explicit initializations\n",
    "# tf.Variables creates a variable with value 1.\n",
    "currState = tf.Variable(1)\n",
    "constValue = tf.constant(5)\n",
    "cProd = currState *5\n",
    "#Subtraction operation: cProd - currState\n",
    "interValue = tf.sub(cProd,currState)\n",
    "#Addition\n",
    "newState = tf.add(currState,interValue)\n",
    "#The below operation is performed once the run command is executed\n",
    "update = tf.assign(currState,newState)\n",
    "#Whenever a variable is created, it is an empty node. It is only by initializing them the \n",
    "# variable gets filled with the content, which is a value\n",
    "init_op = tf.initialize_all_variables()\n",
    "#Within Session class, the operations are executed and datas in the form of \n",
    "#tensors are evaluated\n",
    "with tf.Session() as sess:\n",
    "        sess.run(init_op)\n",
    "        #The below statement will execute to generate the currState value\n",
    "        print(sess.run(currState))\n",
    "        for _ in range(5):\n",
    "                sess.run(update)\n",
    "                #print(sess.run(currState))\n",
    "                print (sess.run([currState, interValue]))\n",
    "                \n",
    "#```"
   ]
  },
  {
   "cell_type": "markdown",
   "metadata": {},
   "source": [
    "### INTRODUCING PLACEHOLDERS"
   ]
  },
  {
   "cell_type": "markdown",
   "metadata": {},
   "source": [
    "They are used to provide input whenever tensor flow is made to run computation. To mention a dimension of any length, None can be specified in the shape argument. The below example which deals with matrix multiplication of tensors-generated using the random function, provides an understanding of working with placeholder values.\n",
    "\n",
    "Example 6:"
   ]
  },
  {
   "cell_type": "code",
   "execution_count": 61,
   "metadata": {
    "collapsed": false
   },
   "outputs": [
    {
     "name": "stdout",
     "output_type": "stream",
     "text": [
      "[[ 2.61674976  1.86368191  1.4550823   1.37298357  2.47169828  1.08023942\n",
      "   2.14879799  2.02881074]\n",
      " [ 2.91775274  2.01589727  1.72237372  1.76834607  2.96581197  1.42859709\n",
      "   2.36475158  2.29788542]\n",
      " [ 2.51519513  1.72266853  1.54350364  1.71800911  2.47710085  1.21889365\n",
      "   2.05739808  1.99948645]\n",
      " [ 3.21602178  2.12070513  2.45106459  2.49933267  3.5175097   2.04046488\n",
      "   2.52594852  2.43860269]\n",
      " [ 3.86992502  2.45799279  2.4733665   2.48584032  3.66618919  2.01358819\n",
      "   3.04445696  2.96306038]\n",
      " [ 2.33643603  1.89004624  2.04816651  1.64754248  2.55149245  2.23151541\n",
      "   1.81627989  1.73055005]\n",
      " [ 2.97998524  2.07224798  1.70863032  1.54975355  2.84166694  1.46734786\n",
      "   2.47828674  2.36047482]\n",
      " [ 3.29996252  2.07482648  1.31700468  1.73329055  2.70309496  1.2731626\n",
      "   2.52501822  2.54046631]]\n",
      "INVERSE:  [[  4.94031096  -2.97148204  -6.58665085   3.20352554   0.57544392\n",
      "   -0.22816373  -2.37994218   2.54698682]\n",
      " [  3.24071026   2.7983551    2.76502132  -3.45993638   0.36924225\n",
      "    1.90162122  -5.40998316  -0.67354292]\n",
      " [  0.4916493    5.45447302  -0.24959427  -5.76445198   6.82565451\n",
      "    0.74747664  -4.91835833  -3.49686241]\n",
      " [  0.58324933  -4.76755571   3.4575789    2.79481268  -3.04938674\n",
      "   -0.27744403   0.8342042    1.41300988]\n",
      " [ -0.40541777   3.21988082  -3.09076762   2.00596833  -1.87712538\n",
      "   -0.71478879   0.45684808   0.17021333]\n",
      " [ -2.11836195  -3.47243738  -0.12682855   2.61797071  -2.79132128\n",
      "    0.18082784   4.2560873    1.59732735]\n",
      " [  3.71479702 -27.76933289   3.1806767   17.66134644 -15.77950191\n",
      "   -3.70074558  20.05665779   4.9841671 ]\n",
      " [-11.91601181  27.91419983   4.2587986  -21.25429153  16.57269859\n",
      "    2.89325905 -13.06332684  -7.45143652]]\n",
      "SHAPE OF PRODUCT TENSOR:  (8, 8)\n",
      "MATRIX DETERMINANT:  0.0121258\n",
      "EIGEN VECTORS:  [[-4.89774895 -3.02269053 -1.69660091 -0.82965493  0.55694562  1.17941105\n",
      "   2.90258694  4.18905067]\n",
      " [-0.58226711  0.09410812 -0.3950111  -0.4394283  -0.16049951  0.26533338\n",
      "  -0.38825119 -0.23680681]\n",
      " [ 0.59277874 -0.0946536  -0.03532993 -0.08968741 -0.02119386  0.12339091\n",
      "  -0.2229439  -0.75165385]\n",
      " [ 0.28517303  0.44776234  0.18650991  0.093173   -0.35163239  0.06279143\n",
      "  -0.64592409  0.36043397]\n",
      " [ 0.25974467  0.42235169 -0.68880671 -0.12093825  0.09184857 -0.48177931\n",
      "   0.13680743  0.076208  ]\n",
      " [ 0.11639776 -0.65297687 -0.51255959  0.36564091 -0.11713506  0.06826603\n",
      "  -0.28469586  0.25343728]\n",
      " [-0.17830218  0.29790732 -0.09026103  0.55382633  0.66623366  0.18698145\n",
      "  -0.24895006 -0.15422042]\n",
      " [-0.2752943  -0.18027671  0.22445735  0.10242685 -0.0165985  -0.79863912\n",
      "  -0.36860234 -0.23848304]\n",
      " [-0.19915032  0.23597854 -0.11060043  0.56977546 -0.61955339  0.02954065\n",
      "   0.29108027 -0.31357685]]\n"
     ]
    }
   ],
   "source": [
    "# The objective of this program is to familiarise with the use of placeholders and \n",
    "# a few matrix arithmetic functions\n",
    "# Using placeholder value inidicates directing the tensor \n",
    "# value into Operations in graph.\n",
    "# Placeholders should always fed with feed_dict argument while using Session.run()/tensor.eval()/operation.run() command\n",
    "# Takes arguments: dtype, shape(optional),name(optional)\n",
    "# the dtype elements indicate the type of tensor. For eg: float32, complex64, int8, qint8, bool, string etc\n",
    "import tensorflow as tf\n",
    "import numpy as np\n",
    "val1 = tf.placeholder(tf.float32,shape = (8,8))\n",
    "val2 = tf.placeholder(tf.float32, shape = (8,8))\n",
    "randomNos2 = np.random.rand(8,8)\n",
    "# tf.random_normal : Generates random numbers following normal distribution with mean =0.0, stddev = 1.0, dtype = tf.float32\n",
    "randomNormal = tf.Variable(tf.random_normal([8,8]),name = 'NormalDistribution')\n",
    "# Below command creates an OP (Operation) of type MatMul; \n",
    "product = tf.matmul(val1,val2)\n",
    "matInv = tf.matrix_inverse(product, name=\"MatrixInverse\")\n",
    "matDeter = tf.matrix_determinant(val1,name =\"MatrixDeterminant\")\n",
    "eigenVec = tf.self_adjoint_eig(randomNormal, name = \"EigenVectors\")\n",
    "# Unless specified, both val1 and val2 has to be of placeholder type input or they both\n",
    "# have to be of Variable type which doesnt require initialization using feed_dict\n",
    "# addition = tf.add(randomNormal,val1) # This command will give an invalid argument error as val1 \n",
    "#randomNormal are variable and placeholder values respectively.\n",
    "init = tf.initialize_all_variables()\n",
    "# With the below commands, the Op gets executed\n",
    "with tf.Session() as sess:\n",
    "        sess.run(init)\n",
    "        print (sess.run(product,feed_dict={val1:randomNos2, val2:randomNos2}))\n",
    "        print \"INVERSE: \",(sess.run(matInv,feed_dict={val1:randomNos2, val2:randomNos2}))\n",
    "# get_shape(): Returns the shape of a tensor; which would be either Fully-known shape(size and number of dimensions are known) or \n",
    "# Partially-known shape(number of dimensions known but size is unknown) or Unknown Shape(as the name says, number of \n",
    "# dimensions and size are unknown)\n",
    "        print \"SHAPE OF PRODUCT TENSOR: \",(product.get_shape())  \n",
    "        \n",
    "        print \"MATRIX DETERMINANT: \",(sess.run(matDeter,feed_dict={val1:randomNos2}))\n",
    "        \n",
    "        print \"EIGEN VECTORS: \",sess.run(eigenVec)\n",
    "        \n",
    "#print \"Addition\",sess.run(addition)\n",
    "\n"
   ]
  },
  {
   "cell_type": "markdown",
   "metadata": {},
   "source": [
    "### ACTIVATION FUNCTIONS"
   ]
  },
  {
   "cell_type": "markdown",
   "metadata": {},
   "source": [
    "In the biological world, Neurons does the decision making process. The below figure shows a 3 layer neural network: with 2 hidden layers and one output layer. Each element in the input layer(Blue layer), hidden layer(yellow layer) and output layer(green layer) are considered as neurons that communicates between the layers. \n",
    "\n"
   ]
  },
  {
   "cell_type": "markdown",
   "metadata": {},
   "source": [
    "![eximage](https://github.com/cloudandbigdatalab/Big-Data-Machine-Learning-Doc/blob/master/Raw/Mitha/Images/neuralpic.png)",
    "***\n",
    "<center> 3 Layer Neural Network</center>"
   ]
  
  },
  {
   "cell_type": "markdown",
   "metadata": {},
   "source": [
    "A Perceptron neuron is an artificial neuron, that takes many binary inputs and gives binary output. To compute result, weights (real numbers indicating the role of the inputs in the corresponding output) were used. The weighted sum of the product of input and weights, added with bias are compared with a threshold value to decide the neuron output as 0 or 1.\n",
    "The output from one layer is fed as input to the next layer. Such a network is called as a feed forward network. Each element in the hidden and output layer is called a neuron and it just does some simple tasks like: Reads input data, Process it and gives the output. By having a network of such a model we make it to ‘learn’, producing intelligent results that can be converged towards a decision making process. \n",
    "Perceptron is a basic network model which gets a weighted input from the previous layer. The results from a perceptron is found to be flipping as the weights / bias values change. \n",
    "\n",
    "Sigmoid neurons are considered to be better than perceptron. Though with some similarities with perceptron, sigmoid neurons deals with exponent values of inputs between 0 and 1. The output is a real number between 0 and 1. Sigmoid neuron is a smoothed version of a perceptron. \n",
    "\n",
    "There are many other learning algorithms and they will make our model learn and adapt the weights and biases of our model so as to provide us with the decision made. \n",
    "The activation functions produces a tensor of the same shape as their inputs.\n",
    "\n",
    "The most common activation function is called the Sigmoid. \n",
    "\n",
    "$$\\sigma(x) = 1/(1+e^{-x})$$\n",
    "                            \n",
    "Rectified Linear Unit or Relu is a function that computes $f(x) = max(0,x)$ . \n",
    "\n",
    "Other activation functions include:Softplus, Sigmoid, tanh, elu and tensor flow have their respective commands for these activation functions. \n",
    "\n",
    "Softmax Regression used for classification operation. It is a supervised learning algorithm. It has an added feature of being able to classify the input data to multiple groups, rather than to just 2 groups. In the case of MNIST digit recognition task, the number of groups is 10.\n",
    "Softmax regression requires evidence information, which is calculated using bias, weights and the input image. A weighted sum of the tallies up the evidence that it is in a specific class. A positive weight indicates that the evidence is in favor and belongs to that class. If the weight is negative then the pixel is evidence against the image belonging to that class.  \n",
    "\n"
   ]
  },
  {
   "cell_type": "markdown",
   "metadata": {},
   "source": [
    "Lets a try a simple implementation on tensor flow using the activation functions: Relu\n",
    "\n",
    "Example 5:"
   ]
  },
  {
   "cell_type": "code",
   "execution_count": 8,
   "metadata": {
    "collapsed": false
   },
   "outputs": [
    {
     "name": "stdout",
     "output_type": "stream",
     "text": [
      "Matrix PRoduct:  [[ 1.96997619 -1.82105517 -0.13822588]]\n",
      "Applying Activation function Softmax:  [[ 0.78190947  0.10904524  0.10904524]]\n"
     ]
    }
   ],
   "source": [
    "import tensorflow as tf\n",
    "import numpy as np\n",
    "\n",
    "input = tf.placeholder(\"float\",[1,3])\n",
    "weights = tf.Variable(tf.random_normal([3,3]),name = \"Weights\")\n",
    "y = tf.matmul(input,weights)\n",
    "relu_output = tf.nn.relu(y)\n",
    "softmax = tf.nn.softmax(relu_output)\n",
    "init = tf.initialize_all_variables()\n",
    "\n",
    "with tf.Session() as sess:\n",
    "    sess.run(init)\n",
    "    print \"Matrix PRoduct: \",sess.run(y,feed_dict={input:np.array([[1.0,2.0,3.0]])})\n",
    "    print \"Applying Activation function Softmax: \",sess.run(softmax,feed_dict={input:np.array([[1.0,2.0,3.0]])})\n"
   ]
  },
  {
   "cell_type": "markdown",
   "metadata": {
    "collapsed": true
   },
   "source": [
    "## REFERENCES : "
   ]
  },
  {
   "cell_type": "markdown",
   "metadata": {},
   "source": [
    "https://www.tensorflow.org/versions/r0.7/get_started/basic_usage.html"
   ]
  },
  {
   "cell_type": "markdown",
   "metadata": {},
   "source": [
    "http://cs231n.github.io/"
   ]
  },
  {
   "cell_type": "markdown",
   "metadata": {},
   "source": [
    "http://download.tensorflow.org/paper/whitepaper2015.pdf"
   ]
  },
  {
   "cell_type": "code",
   "execution_count": null,
   "metadata": {
    "collapsed": true
   },
   "outputs": [],
   "source": []
  }
 ],
 "metadata": {
  "kernelspec": {
   "display_name": "Python 2",
   "language": "python",
   "name": "python2"
  },
  "language_info": {
   "codemirror_mode": {
    "name": "ipython",
    "version": 2
   },
   "file_extension": ".py",
   "mimetype": "text/x-python",
   "name": "python",
   "nbconvert_exporter": "python",
   "pygments_lexer": "ipython2",
   "version": "2.7.6"
  }
 },
 "nbformat": 4,
 "nbformat_minor": 0
}
